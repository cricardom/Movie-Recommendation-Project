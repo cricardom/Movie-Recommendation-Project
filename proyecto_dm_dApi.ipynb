{
 "cells": [
  {
   "attachments": {},
   "cell_type": "markdown",
   "metadata": {},
   "source": [
    "DESARROLLO API"
   ]
  },
  {
   "cell_type": "code",
   "execution_count": 2,
   "metadata": {},
   "outputs": [],
   "source": [
    "import pandas as pd\n",
    "import numpy as np\n",
    "from sklearn.metrics.pairwise import cosine_similarity\n",
    "from sklearn.utils.extmath import randomized_svd\n",
    "from sklearn.feature_extraction.text import TfidfVectorizer\n",
    "import zipfile"
   ]
  },
  {
   "cell_type": "code",
   "execution_count": 3,
   "metadata": {},
   "outputs": [],
   "source": [
    " # Sacamos el Data frame zipiado\n",
    "def extract_data_from_zip(zip_file):\n",
    "   \n",
    "    with zipfile.ZipFile(zip_file, 'r') as zip_ref:\n",
    "        zip_ref.extractall('movies')\n",
    "    # Lectura de data frame\n",
    "    movies_df = pd.read_csv('movies/movies.csv')\n",
    "    return movies_df"
   ]
  },
  {
   "cell_type": "code",
   "execution_count": 4,
   "metadata": {},
   "outputs": [],
   "source": [
    "df = pd.read_csv('movies.csv',encoding='utf-8')"
   ]
  },
  {
   "attachments": {},
   "cell_type": "markdown",
   "metadata": {},
   "source": [
    "CANTIDAD FILMACIONES POR MES\n",
    "    \n",
    "def cantidad_filmaciones_mes( Mes ): Se ingresa un mes en idioma Español. Debe devolver la cantidad de películas que fueron estrenadas en el mes consultado en la totalidad del datase"
   ]
  },
  {
   "cell_type": "code",
   "execution_count": 5,
   "metadata": {},
   "outputs": [],
   "source": [
    "# Función de Películas por Mes\n",
    "def peliculas_mes(mes:str):\n",
    "     \n",
    "    mes = mes.lower()\n",
    "    meses = {\n",
    "    'enero': 1,\n",
    "    'febrero': 2,\n",
    "    'marzo': 3,\n",
    "    'abril': 4,\n",
    "    'mayo': 5,\n",
    "    'junio': 6,\n",
    "    'julio': 7,\n",
    "    'agosto': 8,\n",
    "    'septiembre': 9,\n",
    "    'octubre': 10,\n",
    "    'noviembre': 11,\n",
    "    'diciembre': 12}\n",
    "\n",
    "    mes_numero = meses[mes]\n",
    "\n",
    "    # Convertir la columna \"fecha\" a un objeto de tipo fecha\n",
    "    df['release_date'] = pd.to_datetime(df['release_date'])\n",
    "\n",
    "    # Tratamos la excepciòn\n",
    "    try:\n",
    "        month_filtered = df[df['release_date'].dt.month == mes_numero]\n",
    "    except (ValueError, KeyError, TypeError):\n",
    "        return None\n",
    "\n",
    "    # Filtramos valores duplicados del dataframe y calculamos\n",
    "    month_unique = month_filtered.drop_duplicates(subset='id')\n",
    "    respuesta = month_unique.shape[0]\n",
    "\n",
    "    return {'mes':mes, 'cantidad de peliculas':respuesta}"
   ]
  },
  {
   "cell_type": "code",
   "execution_count": 6,
   "metadata": {},
   "outputs": [
    {
     "data": {
      "text/plain": [
       "{'mes': 'septiembre', 'cantidad de peliculas': 4834}"
      ]
     },
     "execution_count": 6,
     "metadata": {},
     "output_type": "execute_result"
    }
   ],
   "source": [
    "peliculas_mes('septiembre')"
   ]
  },
  {
   "attachments": {},
   "cell_type": "markdown",
   "metadata": {},
   "source": [
    "CANTIDAD DE FILMACIONES POR DIA\n",
    "\n",
    "def cantidad_filmaciones_dia( Dia ): Se ingresa un día en idioma Español. Debe devolver la cantidad de películas que fueron estrenadas en día consultado en la totalidad del dataset."
   ]
  },
  {
   "cell_type": "code",
   "execution_count": 7,
   "metadata": {},
   "outputs": [],
   "source": [
    "# Función de Películas por Día\n",
    "def peliculas_dia(dia:str):\n",
    "    \n",
    "    days = {'lunes': 'Monday', 'martes': 'Tuesday', 'miercoles': 'Wednesday', 'jueves': 'Thursday', 'viernes': 'Friday', 'sabado': 'Saturday', 'domingo': 'Sunday'}\n",
    "    day = days[dia.lower()]\n",
    "    lista_peliculas_day = df[df['release_date'].dt.day_name() == day].drop_duplicates(subset='id')\n",
    "    respuesta = lista_peliculas_day.shape[0]\n",
    "\n",
    "    return {'dia': dia, 'cantidad de peliculas': respuesta}"
   ]
  },
  {
   "cell_type": "code",
   "execution_count": 8,
   "metadata": {},
   "outputs": [
    {
     "data": {
      "text/plain": [
       "{'dia': 'martes', 'cantidad de peliculas': 4639}"
      ]
     },
     "execution_count": 8,
     "metadata": {},
     "output_type": "execute_result"
    }
   ],
   "source": [
    "peliculas_dia('martes')"
   ]
  },
  {
   "attachments": {},
   "cell_type": "markdown",
   "metadata": {},
   "source": [
    "SCORE POR TITULO DE LA FILMACION\n",
    "\n",
    "def score_titulo( titulo_de_la_filmación ): Se ingresa el título de una filmación esperando como respuesta el título, el año de estreno y el score"
   ]
  },
  {
   "cell_type": "code",
   "execution_count": 9,
   "metadata": {},
   "outputs": [],
   "source": [
    "#Funcion Score por Pelicula\n",
    "def score_titulo(pelicula):\n",
    "    \n",
    "    pelicula = pelicula.lower()\n",
    "\n",
    "    info_pelicula = df[df['title'].str.lower() == pelicula].drop_duplicates(subset='title')\n",
    "\n",
    "    pelicula_nombre = info_pelicula['title'].iloc[0]\n",
    "    year_pelicula = str(info_pelicula['release_year'].iloc[0])\n",
    "    score_pelicula = info_pelicula['vote_average'].iloc[0]\n",
    "\n",
    "    return {'pelicula': pelicula_nombre, 'año': year_pelicula, \"score\": score_pelicula}"
   ]
  },
  {
   "cell_type": "code",
   "execution_count": 24,
   "metadata": {},
   "outputs": [
    {
     "data": {
      "text/plain": [
       "{'pelicula': 'Star Wars', 'año': '1977', 'score': 8.1}"
      ]
     },
     "execution_count": 24,
     "metadata": {},
     "output_type": "execute_result"
    }
   ],
   "source": [
    "score_titulo('Star wars')"
   ]
  },
  {
   "attachments": {},
   "cell_type": "markdown",
   "metadata": {},
   "source": [
    "VOTOS POR TITULO DE LA FILMACION\n",
    "\n",
    "def votos_titulo( titulo_de_la_filmación ): Se ingresa el título de una filmación esperando como respuesta el título, la cantidad de votos y el valor promedio de las votaciones. La misma variable deberá de contar con al menos 2000 valoraciones, caso contrario, debemos contar con un mensaje avisando que no cumple esta condición y que por ende, no se devuelve ningun valor."
   ]
  },
  {
   "cell_type": "code",
   "execution_count": 11,
   "metadata": {},
   "outputs": [],
   "source": [
    "#Funcion Votos por Titulo\n",
    "def votos_titulo(pelicula):\n",
    "        \n",
    "    pelicula = pelicula.lower()\n",
    "\n",
    "    info_pelicula = df[df['title'].str.lower() == pelicula].drop_duplicates(subset='title')\n",
    "\n",
    "    pelicula_nombre = info_pelicula['title'].iloc[0]\n",
    "    vote_pelicula = info_pelicula['vote_count'].iloc[0]\n",
    "    score_pelicula = info_pelicula['vote_average'].iloc[0]\n",
    "    if vote_pelicula < 2000:\n",
    "        return 'La Pelicula debe tener mas de 2000 valoraciones'\n",
    "    return {'pelicula': pelicula_nombre, 'votos': vote_pelicula, \"score\": score_pelicula}"
   ]
  },
  {
   "cell_type": "code",
   "execution_count": 23,
   "metadata": {},
   "outputs": [
    {
     "data": {
      "text/plain": [
       "'La Pelicula debe tener mas de 2000 valoraciones'"
      ]
     },
     "execution_count": 23,
     "metadata": {},
     "output_type": "execute_result"
    }
   ],
   "source": [
    "votos_titulo(\"zapped\")"
   ]
  },
  {
   "cell_type": "code",
   "execution_count": 14,
   "metadata": {},
   "outputs": [
    {
     "data": {
      "text/plain": [
       "{'pelicula': 'Star Wars', 'votos': 6778.0, 'score': 8.1}"
      ]
     },
     "execution_count": 14,
     "metadata": {},
     "output_type": "execute_result"
    }
   ],
   "source": [
    "votos_titulo('Star Wars')"
   ]
  },
  {
   "attachments": {},
   "cell_type": "markdown",
   "metadata": {},
   "source": [
    "EXITO ACTOR\n",
    "\n",
    "def get_actor( nombre_actor ): Se ingresa el nombre de un actor que se encuentre dentro de un dataset debiendo devolver el éxito del mismo medido a través del retorno. Además, la cantidad de películas que en las que ha participado y el promedio de retorno. La definición no deberá considerar directores."
   ]
  },
  {
   "cell_type": "code",
   "execution_count": 15,
   "metadata": {},
   "outputs": [],
   "source": [
    "# Funcion Exito Actor\n",
    "def get_actor(actor):\n",
    "\n",
    "    actor = actor.lower()\n",
    "   \n",
    "    lista_get_actor = df[df['nombre_actor'].str.lower() == actor].drop_duplicates(subset='id')\n",
    "    cantidad = (lista_get_actor).shape[0]\n",
    "    retorno = (lista_get_actor['return'].iloc[0])\n",
    "\n",
    "    promedio_retorno = int(retorno)*10000000/int(cantidad)\n",
    "\n",
    "    return {'actor':actor, 'cantidad peliculas':cantidad, 'promedio retorno': promedio_retorno}"
   ]
  },
  {
   "cell_type": "code",
   "execution_count": 16,
   "metadata": {},
   "outputs": [
    {
     "data": {
      "text/plain": [
       "{'actor': 'tom hanks',\n",
       " 'cantidad peliculas': 42,\n",
       " 'promedio retorno': 2857142.8571428573}"
      ]
     },
     "execution_count": 16,
     "metadata": {},
     "output_type": "execute_result"
    }
   ],
   "source": [
    "get_actor('Tom Hanks')"
   ]
  },
  {
   "attachments": {},
   "cell_type": "markdown",
   "metadata": {},
   "source": [
    "EXITO DIRECTOR\n",
    "\n",
    "def get_director( nombre_director ): Se ingresa el nombre de un director que se encuentre dentro de un dataset debiendo devolver el éxito del mismo medido a través del retorno. Además, deberá devolver el nombre de cada película con la fecha de lanzamiento, retorno individual, costo y ganancia de la misma."
   ]
  },
  {
   "cell_type": "code",
   "execution_count": 17,
   "metadata": {},
   "outputs": [],
   "source": [
    "#Funcion Exito Director\n",
    "def get_director(director):\n",
    "\n",
    "    director = director.lower()\n",
    "\n",
    "    lista_get_director = df[df['nombre_director'].str.lower() == director].drop_duplicates(subset='id')\n",
    "    retorno = lista_get_director['return'].sum() / lista_get_director['budget'].sum()\n",
    "    pelicula = lista_get_director[['title', 'release_year', 'return', 'budget', 'revenue']].to_dict('records')\n",
    "    \n",
    "    return {'director': director, 'retorno': retorno,'pelicula,': pelicula}"
   ]
  },
  {
   "cell_type": "code",
   "execution_count": 18,
   "metadata": {},
   "outputs": [
    {
     "data": {
      "text/plain": [
       "{'director': 'john lasseter',\n",
       " 'retorno': 4.0979861757860196e-08,\n",
       " 'pelicula,': [{'title': 'Toy Story',\n",
       "   'release_year': 1995,\n",
       "   'return': 12.4518011,\n",
       "   'budget': 30000000,\n",
       "   'revenue': 373554033.0},\n",
       "  {'title': 'The Incredibles',\n",
       "   'release_year': 2004,\n",
       "   'return': 6.863501,\n",
       "   'budget': 92000000,\n",
       "   'revenue': 631442092.0},\n",
       "  {'title': \"Howl's Moving Castle\",\n",
       "   'release_year': 2004,\n",
       "   'return': 9.779602291666668,\n",
       "   'budget': 24000000,\n",
       "   'revenue': 234710455.0},\n",
       "  {'title': 'Luxo Jr.',\n",
       "   'release_year': 1986,\n",
       "   'return': 0.0,\n",
       "   'budget': 0,\n",
       "   'revenue': 0.0},\n",
       "  {'title': 'Cars',\n",
       "   'release_year': 2006,\n",
       "   'return': 3.849859575,\n",
       "   'budget': 120000000,\n",
       "   'revenue': 461983149.0},\n",
       "  {'title': 'Bolt',\n",
       "   'release_year': 2008,\n",
       "   'return': 2.0665332933333334,\n",
       "   'budget': 150000000,\n",
       "   'revenue': 309979994.0},\n",
       "  {'title': 'The Princess and the Frog',\n",
       "   'release_year': 2009,\n",
       "   'return': 2.543293,\n",
       "   'budget': 105000000,\n",
       "   'revenue': 267045765.0},\n",
       "  {'title': 'Tangled',\n",
       "   'release_year': 2010,\n",
       "   'return': 2.2761343692307694,\n",
       "   'budget': 260000000,\n",
       "   'revenue': 591794936.0},\n",
       "  {'title': 'Cars 2',\n",
       "   'release_year': 2011,\n",
       "   'return': 2.79926198,\n",
       "   'budget': 200000000,\n",
       "   'revenue': 559852396.0},\n",
       "  {'title': 'The Ballad of Nessie',\n",
       "   'release_year': 2011,\n",
       "   'return': 0.0,\n",
       "   'budget': 0,\n",
       "   'revenue': 0.0},\n",
       "  {'title': 'Jack-Jack Attack',\n",
       "   'release_year': 2004,\n",
       "   'return': 0.0,\n",
       "   'budget': 0,\n",
       "   'revenue': 0.0},\n",
       "  {'title': 'One Man Band',\n",
       "   'release_year': 2005,\n",
       "   'return': 0.0,\n",
       "   'budget': 0,\n",
       "   'revenue': 0.0},\n",
       "  {'title': 'Tin Toy',\n",
       "   'release_year': 1988,\n",
       "   'return': 0.0,\n",
       "   'budget': 0,\n",
       "   'revenue': 0.0},\n",
       "  {'title': \"Red's Dream\",\n",
       "   'release_year': 1987,\n",
       "   'return': 0.0,\n",
       "   'budget': 0,\n",
       "   'revenue': 0.0},\n",
       "  {'title': 'Knick Knack',\n",
       "   'release_year': 1989,\n",
       "   'return': 0.0,\n",
       "   'budget': 0,\n",
       "   'revenue': 0.0},\n",
       "  {'title': 'Paperman',\n",
       "   'release_year': 2012,\n",
       "   'return': 0.0,\n",
       "   'budget': 0,\n",
       "   'revenue': 0.0},\n",
       "  {'title': 'Frozen',\n",
       "   'release_year': 2013,\n",
       "   'return': 8.494793393333333,\n",
       "   'budget': 150000000,\n",
       "   'revenue': 1274219009.0},\n",
       "  {'title': 'La luna',\n",
       "   'release_year': 2011,\n",
       "   'return': 0.0,\n",
       "   'budget': 0,\n",
       "   'revenue': 0.0},\n",
       "  {'title': 'Mater and the Ghostlight',\n",
       "   'release_year': 2006,\n",
       "   'return': 0.0,\n",
       "   'budget': 0,\n",
       "   'revenue': 0.0},\n",
       "  {'title': 'Tangled Ever After',\n",
       "   'release_year': 2012,\n",
       "   'return': 0.0,\n",
       "   'budget': 0,\n",
       "   'revenue': 0.0},\n",
       "  {'title': 'Big Hero 6',\n",
       "   'release_year': 2014,\n",
       "   'return': 3.9521542,\n",
       "   'budget': 165000000,\n",
       "   'revenue': 652105443.0},\n",
       "  {'title': 'Secret of the Wings',\n",
       "   'release_year': 2012,\n",
       "   'return': 0.0,\n",
       "   'budget': 0,\n",
       "   'revenue': 0.0},\n",
       "  {'title': \"The Legend of Mor'du\",\n",
       "   'release_year': 2012,\n",
       "   'return': 0.0,\n",
       "   'budget': 0,\n",
       "   'revenue': 0.0},\n",
       "  {'title': 'Frozen Fever',\n",
       "   'release_year': 2015,\n",
       "   'return': 0.0,\n",
       "   'budget': 0,\n",
       "   'revenue': 0.0},\n",
       "  {'title': 'Tinker Bell',\n",
       "   'release_year': 2008,\n",
       "   'return': 0.0,\n",
       "   'budget': 48000000,\n",
       "   'revenue': 0.0},\n",
       "  {'title': \"Sanjay's Super Team\",\n",
       "   'release_year': 2015,\n",
       "   'return': 0.0,\n",
       "   'budget': 0,\n",
       "   'revenue': 0.0},\n",
       "  {'title': 'How to Hook Up Your Home Theater',\n",
       "   'release_year': 2007,\n",
       "   'return': 0.0,\n",
       "   'budget': 0,\n",
       "   'revenue': 0.0},\n",
       "  {'title': 'Air Mater',\n",
       "   'release_year': 2011,\n",
       "   'return': 0.0,\n",
       "   'budget': 0,\n",
       "   'revenue': 0.0},\n",
       "  {'title': 'Inner Workings',\n",
       "   'release_year': 2016,\n",
       "   'return': 0.0,\n",
       "   'budget': 0,\n",
       "   'revenue': 0.0}]}"
      ]
     },
     "execution_count": 18,
     "metadata": {},
     "output_type": "execute_result"
    }
   ],
   "source": [
    "get_director('John Lasseter')"
   ]
  },
  {
   "attachments": {},
   "cell_type": "markdown",
   "metadata": {},
   "source": [
    "RECOMENDACION\n",
    "\n",
    "Se ingresa el nombre de una película y te recomienda las similares en una lista de 5 valores."
   ]
  },
  {
   "cell_type": "code",
   "execution_count": 19,
   "metadata": {},
   "outputs": [
    {
     "name": "stderr",
     "output_type": "stream",
     "text": [
      "c:\\Users\\crica\\AppData\\Local\\Programs\\Python\\Python37-32\\lib\\site-packages\\sklearn\\utils\\extmath.py:376: FutureWarning: If 'random_state' is not supplied, the current default is to use 0 as a fixed seed. This will change to  None in version 1.2 leading to non-deterministic results that better reflect nature of the randomized_svd solver. If you want to silence this warning, set 'random_state' to an integer seed or to None explicitly depending if you want your code to be deterministic or not.\n",
      "  FutureWarning,\n"
     ]
    }
   ],
   "source": [
    "#Funcion de Recomendacion de Peliculas\n",
    "def calculate_reduced_similarity_matrix(df):\n",
    "    # El Vectorizador TfidfVectorizer con parámetros de reduccion procesamiento\n",
    "    df['genres'].fillna('', inplace=True)\n",
    "    vectorizar = TfidfVectorizer(min_df=10, max_df=0.5, ngram_range=(1,2))\n",
    "\n",
    "    # Vectorizamos, ajustamos y transformamos el texto de la columna \"title\" del DataFrame\n",
    "    X = vectorizar.fit_transform(df['genres'])\n",
    "\n",
    "    # Calcular la matriz de similitud de coseno con una matriz reducida de 7000\n",
    "    similarity_matrix = cosine_similarity(X[:1250,:])\n",
    "\n",
    "    # Obtenemos la descomposición en valores singulares aleatoria de la matriz de similitud de coseno con 10 componentes\n",
    "    n_components = 10\n",
    "    U, Sigma, VT = randomized_svd(similarity_matrix, n_components=n_components)\n",
    "\n",
    "    # Construir la matriz reducida de similitud de coseno\n",
    "    reduced_similarity_matrix = U.dot(np.diag(Sigma)).dot(VT)\n",
    "\n",
    "    return reduced_similarity_matrix\n",
    "# Inicializar y cargar el DataFrame df\n",
    "df = pd.read_csv(\"./movies.csv\",encoding='utf-8')\n",
    "\n",
    "# Calcular la matriz de similitud reducida\n",
    "reduced_similarity_matrix = calculate_reduced_similarity_matrix(df)"
   ]
  },
  {
   "cell_type": "code",
   "execution_count": 20,
   "metadata": {},
   "outputs": [],
   "source": [
    "#Funcion de Recomendacion de Peliculas\n",
    "def recomendacion(titulo:str):\n",
    "    '''Ingresas un nombre de pelicula y te recomienda las similares en una lista'''\n",
    "    \n",
    "    titulo = titulo.title()\n",
    "    #Ubicamos el indice del titulo pasado como parametro en la columna 'title' del dts user_item\n",
    "    indice = np.where(df['title'] == titulo)[0][0]\n",
    "    #Vemos los indices de aquellas puntuaciones y caracteristicas similares hacia el titulo \n",
    "    puntuaciones_similitud = reduced_similarity_matrix[indice,:]\n",
    "    # Se ordena los indicies de menor a mayor\n",
    "    puntuacion_ordenada = np.argsort(puntuaciones_similitud)[::-1]\n",
    "    # Que solo 5 nos indique \n",
    "    top_indices = puntuacion_ordenada[:5]\n",
    "    \n",
    "    return df.loc[top_indices, 'title'].tolist()"
   ]
  },
  {
   "cell_type": "code",
   "execution_count": 21,
   "metadata": {},
   "outputs": [
    {
     "data": {
      "text/plain": [
       "['Home for the Holidays',\n",
       " 'Ace Ventura: When Nature Calls',\n",
       " 'Babe',\n",
       " 'Ace Ventura: When Nature Calls',\n",
       " 'Ace Ventura: When Nature Calls']"
      ]
     },
     "execution_count": 21,
     "metadata": {},
     "output_type": "execute_result"
    }
   ],
   "source": [
    "recomendacion('Toy Story')"
   ]
  }
 ],
 "metadata": {
  "kernelspec": {
   "display_name": "Python 3",
   "language": "python",
   "name": "python3"
  },
  "language_info": {
   "codemirror_mode": {
    "name": "ipython",
    "version": 3
   },
   "file_extension": ".py",
   "mimetype": "text/x-python",
   "name": "python",
   "nbconvert_exporter": "python",
   "pygments_lexer": "ipython3",
   "version": "3.7.4"
  },
  "orig_nbformat": 4
 },
 "nbformat": 4,
 "nbformat_minor": 2
}
